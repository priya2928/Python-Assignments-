{
 "cells": [
  {
   "cell_type": "markdown",
   "id": "5511bea6",
   "metadata": {},
   "source": [
    "Q.1 In the below elements which of them are values or an expression?\n"
   ]
  },
  {
   "cell_type": "markdown",
   "id": "329602f3",
   "metadata": {},
   "source": [
    "Ans: \n",
    "      *  is a mathematical operator called multiplication.  \n",
    "\n",
    "     \"hellow\" is a string.  \n",
    "     \n",
    "     -87.8 is a floating point.  \n",
    "     \n",
    "     -  is a mathematical operator called substraction.  \n",
    "     \n",
    "     /  is a mathematical operator called division.  \n",
    "     \n",
    "     +  is a mathematical operator called addition.  \n",
    "     \n",
    "     6 is a integer. \n",
    "     \n",
    "     that means,\n",
    "      Operators(expression): +, -, *, /\n",
    "      Values: 'hello', -88.5, 6"
   ]
  },
  {
   "cell_type": "markdown",
   "id": "f820a171",
   "metadata": {},
   "source": [
    "Q.2 What is the difference between string and variable?"
   ]
  },
  {
   "cell_type": "markdown",
   "id": "ba7a26fe",
   "metadata": {},
   "source": [
    "Ans:  \n",
    "     **String**:Strings are data, so we can use them to fill up a variable. Declaring strings as variables can make it easier                  for us to work with strings throughout our Python programs.   \n",
    "      **Variable** :Variables are symbols that you can use to store data in a program. You can think of them as an empty box                       that you fill with some data or value."
   ]
  },
  {
   "cell_type": "markdown",
   "id": "f6ead8e4",
   "metadata": {},
   "source": [
    "Q.3 Describe three different data types."
   ]
  },
  {
   "cell_type": "markdown",
   "id": "f8aa8ac4",
   "metadata": {},
   "source": [
    "Ans:  \n",
    "1. Sequence Data type :\n",
    "   **String** : A string is a data structure in Python that represents a sequence of characters. It is an immutable data type,  \n",
    "   meaning that once you have created a string, you cannot change it. Strings are used widely in many different applications,  \n",
    "   such as storing and manipulating text data, representing names, addresses, and other types of data that can be represented   \n",
    "   as text.    \n",
    "\n",
    "  **List** : Lists are just like arrays, declared in other languages which is an ordered collection of data. It is very   \n",
    "  flexible as the items in a list do not need to be of the same type.  \n",
    "  \n",
    "  Example: \n",
    "   \"Hellow\" or 'Hellow' \n",
    "   \n",
    "  **Tuple** : Just like a list, a tuple is also an ordered collection of Python objects. The only difference between a tuple  \n",
    "  and a list is that tuples are immutable i.e. tuples cannot be modified after it is created. It is represented by a tuple   \n",
    "  class.  \n",
    "   \n",
    "\n",
    "\n",
    "2. Numeric Data type :  \n",
    "The numeric data type in Python represents the data that has a numeric value. A numeric value can be an integer, a floating number, or even a complex number. These values are defined as Python int, Python float, and Python complex classes in Python.\n",
    "\n",
    "  **Integers** – This value is represented by int class. It contains positive or negative whole numbers (without fractions or  \n",
    "  decimals). In Python, there is no limit to how long an integer value can be.  \n",
    "  \n",
    "  **Float** – This value is represented by the float class. It is a real number with a floating-point representation. It is \n",
    "  specified by a decimal point. Optionally, the character e or E followed by a positive or negative integer may be appended to   \n",
    "  specify scientific notation.  \n",
    "  \n",
    "  **Complex Numbers** – Complex number is represented by a complex class. It is specified as (real part) + (imaginary part)j.  \n",
    "  For example – 2+3j    \n",
    "  \n",
    "  \n",
    "3. Dictionary Data type :  \n",
    "   A dictionary in python is an unordered collection of items. Each item stored in a dictionary has a key and value, making it a    key -value pair\n",
    "\n",
    "\n"
   ]
  },
  {
   "cell_type": "markdown",
   "id": "c30eafd1",
   "metadata": {},
   "source": [
    "Q.4  What is an expression made up of? What do all expressions do?"
   ]
  },
  {
   "cell_type": "markdown",
   "id": "479d8b2a",
   "metadata": {},
   "source": [
    "Ans:  \n",
    "A combination of operands and operators is called an expression. The expression in Python produces some value or result after   \n",
    "being interpreted by the Python interpreter. An expression in Python is a combination of operators and operands. An example of  \n",
    "expression can be : x = x + 5x = x + 5x = x+5. "
   ]
  },
  {
   "cell_type": "markdown",
   "id": "8a629880",
   "metadata": {},
   "source": [
    "Q.5  This assignment statements, like spam = 10. What is the difference between an expression and a statement?"
   ]
  },
  {
   "cell_type": "markdown",
   "id": "b4f84b24",
   "metadata": {},
   "source": [
    "Ans:  \n",
    "  The Main Differences Between an Expression and a Statement in Programming. Expressions can be assigned or used as operands, while statements can only be declared. Statements create side effects to be useful, while expressions are values or execute to values.  \n",
    "  An expression evaluates to a single value. A statement does not."
   ]
  },
  {
   "cell_type": "markdown",
   "id": "275e7ac2",
   "metadata": {},
   "source": [
    "Q.6 After running the following code, what does the variable bacon contain?  \n",
    "    bacon = 22  \n",
    "    bacon + 1"
   ]
  },
  {
   "cell_type": "markdown",
   "id": "de5d94d4",
   "metadata": {},
   "source": [
    "Ans:  \n",
    "  The bacon variable is set to 20. The bacon + 1 expression does not reassign the value in bacon (that would need an assignment    statement: bacon = bacon + 1)"
   ]
  },
  {
   "cell_type": "markdown",
   "id": "9e213e14",
   "metadata": {},
   "source": [
    "Q.7 What should the values of the following two terms be?\n",
    "\n",
    "'spam' + 'spamspam'  \n",
    "\n",
    "'spam' * 3"
   ]
  },
  {
   "cell_type": "markdown",
   "id": "b437d535",
   "metadata": {},
   "source": [
    "Ans:  \n",
    "Both expressions evaluate to the string 'spamspamspam'"
   ]
  },
  {
   "cell_type": "markdown",
   "id": "8dd31240",
   "metadata": {},
   "source": [
    "Q.8 Why is eggs a valid variable name while 100 is invalid?\n"
   ]
  },
  {
   "cell_type": "markdown",
   "id": "d07c020a",
   "metadata": {},
   "source": [
    "Ans:  \n",
    "Variable names cannot begin with a number."
   ]
  },
  {
   "cell_type": "markdown",
   "id": "09a5ccb0",
   "metadata": {},
   "source": [
    "Q.9 What three functions can be used to get the integer, floating-point number, or string version of a value?"
   ]
  },
  {
   "cell_type": "markdown",
   "id": "4883e3c8",
   "metadata": {},
   "source": [
    "Ans:  \n",
    "   The int(), float(), and str() functions will evaluate to the integer, floating-point number, and string versions of the value passed to them"
   ]
  },
  {
   "cell_type": "markdown",
   "id": "285cd6de",
   "metadata": {},
   "source": [
    "Q.10 Why does this expression cause an error? How can you fix it?\n",
    "\n",
    "'I have eaten ' + 99 + ' burritos.'"
   ]
  },
  {
   "cell_type": "markdown",
   "id": "32787827",
   "metadata": {},
   "source": [
    "Ans:  \n",
    "  The expression causes an error because 99 is an integer, and only strings can be concatenated to other strings with the +  \n",
    "  operator. The correct way is I have eaten ' + str(99) + ' burritos.'."
   ]
  }
 ],
 "metadata": {
  "kernelspec": {
   "display_name": "Python 3 (ipykernel)",
   "language": "python",
   "name": "python3"
  },
  "language_info": {
   "codemirror_mode": {
    "name": "ipython",
    "version": 3
   },
   "file_extension": ".py",
   "mimetype": "text/x-python",
   "name": "python",
   "nbconvert_exporter": "python",
   "pygments_lexer": "ipython3",
   "version": "3.9.12"
  }
 },
 "nbformat": 4,
 "nbformat_minor": 5
}
