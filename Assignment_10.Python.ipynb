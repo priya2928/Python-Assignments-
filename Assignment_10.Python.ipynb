{
 "cells": [
  {
   "cell_type": "markdown",
   "id": "51ecfcf6",
   "metadata": {},
   "source": [
    "**Q1. What is the role of try and exception block?**\n",
    "\n",
    "Ans: The try and except block in Python is used to catch and handle exceptions. Python executes code following the try statement as a “normal” part of the program. The code that follows the except statement is the program's response to any exceptions in the preceding try clause "
   ]
  },
  {
   "cell_type": "markdown",
   "id": "55286e99",
   "metadata": {},
   "source": [
    "**Q2. What is the syntax for a basic try-except block?**"
   ]
  },
  {
   "cell_type": "code",
   "execution_count": 1,
   "id": "bfcd3a3e",
   "metadata": {},
   "outputs": [
    {
     "name": "stdout",
     "output_type": "stream",
     "text": [
      "Something is wrong with x = s\n"
     ]
    }
   ],
   "source": [
    "x = 's'\n",
    "\n",
    "try:\n",
    "    if x > 3:\n",
    "        print(x)\n",
    "except:\n",
    "    print(f'Something is wrong with x = {x}')"
   ]
  },
  {
   "cell_type": "markdown",
   "id": "bc4b687e",
   "metadata": {},
   "source": [
    "**Q3. What happens if an exception occurs inside a try block and there is no matching\n",
    "except block?**\n",
    "\n",
    "Ans:If an exception occurs which does not match the exception named in the except clause, it is passed on to outer try statements; if no handler is found, it is an unhandled exception and execution stops with an error message."
   ]
  },
  {
   "cell_type": "markdown",
   "id": "af733c21",
   "metadata": {},
   "source": [
    "**Q4. What is the difference between using a bare except block and specifying a specific\n",
    "exception type?**\n",
    "\n",
    "Ans:A bare except: clause will catch SystemExit and KeyboardInterrupt exceptions, making it harder to interrupt a program with Control-C, and can disguise other problems. If you want to catch all exceptions that signal program errors, use except Exception: (bare except is equivalent to except BaseException:)."
   ]
  },
  {
   "cell_type": "markdown",
   "id": "02341271",
   "metadata": {},
   "source": [
    "**Q5. Can you have nested try-except blocks in Python? If yes, then give an example.**\n",
    "\n",
    "Ans:In a Python program, if there is another try-except construct either inside either a try block or inside its except block, it is known as a nested-try block. This is needed when different blocks like outer and inner may cause different errors. To handle them, we need nested try blocks."
   ]
  },
  {
   "cell_type": "code",
   "execution_count": 2,
   "id": "ec8ad539",
   "metadata": {},
   "outputs": [
    {
     "name": "stdout",
     "output_type": "stream",
     "text": [
      "General Exception\n",
      "inside outer finally block\n"
     ]
    }
   ],
   "source": [
    "a=10\n",
    "b=0\n",
    "try:\n",
    "   print (a/b)\n",
    "except Exception:\n",
    "   print (\"General Exception\")\n",
    "finally:\n",
    "   print (\"inside outer finally block\")"
   ]
  },
  {
   "cell_type": "markdown",
   "id": "54b2a7c5",
   "metadata": {},
   "source": [
    "**Q6. Can we use multiple exception blocks, if yes then give an example.**\n",
    "\n",
    "Ans:Using separate except blocks is another way to catch multiple exceptions in Python. This method allows you to handle different exception types in different ways, making it ideal when you need to perform specific actions for each type of exception."
   ]
  },
  {
   "cell_type": "code",
   "execution_count": 15,
   "id": "b2eddb8f",
   "metadata": {},
   "outputs": [
    {
     "ename": "IndentationError",
     "evalue": "expected an indented block (917032710.py, line 3)",
     "output_type": "error",
     "traceback": [
      "\u001b[1;36m  Input \u001b[1;32mIn [15]\u001b[1;36m\u001b[0m\n\u001b[1;33m    except TypeError as e:\u001b[0m\n\u001b[1;37m    ^\u001b[0m\n\u001b[1;31mIndentationError\u001b[0m\u001b[1;31m:\u001b[0m expected an indented block\n"
     ]
    }
   ],
   "source": [
    "# Using multiple except blocks\n",
    "try:\n",
    "except TypeError as e:\n",
    "    print(\"TypeError occurred:\", e)\n",
    "except ValueError as e:\n",
    "    print(\"ValueError occurred:\", e)"
   ]
  },
  {
   "cell_type": "markdown",
   "id": "59de1489",
   "metadata": {},
   "source": [
    "**Q7. Write the reason due to which following errors are raised:**\n",
    "\n",
    "a. EOFError\n",
    "\n",
    "b. FloatingPointError\n",
    "\n",
    "c. IndexError\n",
    "\n",
    "d. MemoryError\n",
    "\n",
    "e. OverflowError\n",
    "\n",
    "f. TabError\n",
    "\n",
    "g. ValueError"
   ]
  },
  {
   "cell_type": "markdown",
   "id": "03bce394",
   "metadata": {},
   "source": [
    "Ans: \n",
    "    \n",
    "a. EOFError is raised when one of the built-in functions input() or raw_input() hits an end-of-file condition (EOF) without reading any data. \n",
    "\n",
    "b. FloatingPointError :\tRaised when a floating point operation fails.\n",
    "\n",
    "c.IndexError : Raised when the index of a sequence is out of range.\n",
    "\n",
    "d.MemoryError : Raised when an operation runs out of memory.\n",
    "\n",
    "e.OverflowError\t: Raised when the result of an arithmetic operation is too large to be represented.\n",
    "\n",
    "f.TabError : Raised when the indentation consists of inconsistent tabs and spaces.\n",
    "\n",
    "g.ValueError : Raised when a function gets an argument of correct type but improper value."
   ]
  },
  {
   "cell_type": "markdown",
   "id": "d54c27d1",
   "metadata": {},
   "source": [
    "**Q8. Write code for the following given scenario and add try-exception block to it.**\n",
    "\n",
    "a. Program to divide two numbers\n",
    "\n",
    "b. Program to convert a string to an integer\n",
    "\n",
    "c. Program to access an element in a list\n",
    "\n",
    "d. Program to handle a specific exception\n",
    "\n",
    "e. Program to handle any exception"
   ]
  },
  {
   "cell_type": "code",
   "execution_count": 17,
   "id": "9ccec423",
   "metadata": {},
   "outputs": [
    {
     "name": "stdout",
     "output_type": "stream",
     "text": [
      "5.0\n"
     ]
    }
   ],
   "source": [
    "##a\n",
    "\n",
    "try:\n",
    "    numerator = 10\n",
    "    denominator = 2\n",
    "\n",
    "    result = numerator/denominator\n",
    "\n",
    "    print(result)\n",
    "except:\n",
    "    print(\"Error: Denominator cannot be 0.\")"
   ]
  },
  {
   "cell_type": "code",
   "execution_count": 18,
   "id": "442a4ae2",
   "metadata": {},
   "outputs": [
    {
     "name": "stdout",
     "output_type": "stream",
     "text": [
      "Please enter an integer\n"
     ]
    }
   ],
   "source": [
    "##b\n",
    "\n",
    "string = \"abcd\"\n",
    "try:\n",
    "    string_int = int(string)\n",
    "    print(string_int)\n",
    "except ValueError:\n",
    "    # Handle the exception\n",
    "    print('Please enter an integer')"
   ]
  },
  {
   "cell_type": "code",
   "execution_count": null,
   "id": "79c945ab",
   "metadata": {},
   "outputs": [],
   "source": [
    "##e\n",
    "\n",
    "while True:\n",
    "    try:\n",
    "        x = int(input(\"Please enter a number: \"))\n",
    "        break\n",
    "    except ValueError:\n",
    "        print(\"Oops!  That was no valid number.  Try again...\")"
   ]
  },
  {
   "cell_type": "code",
   "execution_count": null,
   "id": "88ee6ac6",
   "metadata": {},
   "outputs": [],
   "source": []
  }
 ],
 "metadata": {
  "kernelspec": {
   "display_name": "Python 3 (ipykernel)",
   "language": "python",
   "name": "python3"
  },
  "language_info": {
   "codemirror_mode": {
    "name": "ipython",
    "version": 3
   },
   "file_extension": ".py",
   "mimetype": "text/x-python",
   "name": "python",
   "nbconvert_exporter": "python",
   "pygments_lexer": "ipython3",
   "version": "3.9.12"
  }
 },
 "nbformat": 4,
 "nbformat_minor": 5
}
