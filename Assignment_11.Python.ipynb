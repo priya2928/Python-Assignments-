{
 "cells": [
  {
   "cell_type": "markdown",
   "id": "94b57ef1",
   "metadata": {},
   "source": [
    "**Q1. What is the role of the 'else' block in a try-except statement? Provide an example\n",
    "scenario where it would be useful.**\n",
    "\n",
    "Ans:The try block lets you test a block of code for errors. The except block lets you handle the error. The else block lets you execute code when there is no error. The finally block lets you execute code, regardless of the result of the try- and except blocks."
   ]
  },
  {
   "cell_type": "code",
   "execution_count": 1,
   "id": "49479d69",
   "metadata": {},
   "outputs": [
    {
     "name": "stdout",
     "output_type": "stream",
     "text": [
      "An exception occurred\n"
     ]
    }
   ],
   "source": [
    "##The try block will generate an exception, because x is not defined:\n",
    "\n",
    "try:\n",
    "  print(x)\n",
    "except:\n",
    "  print(\"An exception occurred\")"
   ]
  },
  {
   "cell_type": "markdown",
   "id": "57243005",
   "metadata": {},
   "source": [
    "**Q2. Can a try-except block be nested inside another try-except block? Explain with an\n",
    "example.**\n",
    "\n",
    "Ans: In a Python program, if there is another try-except construct either inside either a try block or inside its except block, it is known as a nested-try block. This is needed when different blocks like outer and inner may cause different errors. To handle them, we need nested try blocks."
   ]
  },
  {
   "cell_type": "code",
   "execution_count": 2,
   "id": "b992f538",
   "metadata": {},
   "outputs": [
    {
     "name": "stdout",
     "output_type": "stream",
     "text": [
      "Division by 0\n",
      "inside outer finally block\n"
     ]
    }
   ],
   "source": [
    "a=10\n",
    "b=0\n",
    "try:\n",
    "   print (a/b)\n",
    "   try:\n",
    "      print (\"This is inner try block\")\n",
    "   except Exception:\n",
    "      print (\"General exception\")\n",
    "   finally:\n",
    "      print (\"inside inner finally block\")\n",
    "      \n",
    "except ZeroDivisionError:\n",
    "   print (\"Division by 0\")\n",
    "finally:\n",
    "   print (\"inside outer finally block\")"
   ]
  },
  {
   "cell_type": "markdown",
   "id": "5c4b85ef",
   "metadata": {},
   "source": [
    "**Q3. How can you create a custom exception class in Python? Provide an example that\n",
    "demonstrates its usage.**\n",
    "\n",
    "Ans: In Python, we can define custom exceptions by creating a new class that is derived from the built-in Exception class."
   ]
  },
  {
   "cell_type": "code",
   "execution_count": 5,
   "id": "895f8a7f",
   "metadata": {},
   "outputs": [
    {
     "name": "stdout",
     "output_type": "stream",
     "text": [
      "Enter a number: 30\n",
      "Eligible to Vote\n"
     ]
    }
   ],
   "source": [
    " ##define Python user-defined exceptions\n",
    "class InvalidAgeException(Exception):\n",
    "    \"Raised when the input value is less than 18\"\n",
    "    pass\n",
    "\n",
    "# you need to guess this number\n",
    "number = 18\n",
    "\n",
    "try:\n",
    "    input_num = int(input(\"Enter a number: \"))\n",
    "    if input_num < number:\n",
    "        raise InvalidAgeException\n",
    "    else:\n",
    "        print(\"Eligible to Vote\")\n",
    "        \n",
    "except InvalidAgeException:\n",
    "    print(\"Exception occurred: Invalid Age\")"
   ]
  },
  {
   "cell_type": "markdown",
   "id": "8d925c8a",
   "metadata": {},
   "source": [
    "**Q4. What are some common exceptions that are built-in to Python?**\n",
    "\n",
    "Ans:Python has a number of built-in exceptions, such as the well-known errors SyntaxError, NameError, and TypeError. These Python Exceptions are thrown by standard library routines or by the interpreter itself. They are built-in, which implies they are present in the source code at all times."
   ]
  },
  {
   "cell_type": "markdown",
   "id": "7a118741",
   "metadata": {},
   "source": [
    "**Q5. What is logging in Python, and why is it important in software development?**\n",
    "\n",
    "Ans:Python logging is a module that allows you to track events that occur while your program is running. You can use logging to record information about errors, warnings, and other events that occur during program execution. And logging is a useful tool for debugging, troubleshooting, and monitoring your program"
   ]
  },
  {
   "cell_type": "markdown",
   "id": "e2d7c471",
   "metadata": {},
   "source": [
    "**Q6. Explain the purpose of log levels in Python logging and provide examples of when\n",
    "each log level would be appropriate.**\n",
    "\n",
    "Ans:or example, an “error” log is a top priority and should be considered more urgent than a “warn” log. A “debug” log is usually only useful when the application is being debugged. Python has six log levels with each one assigned a specific integer indicating the severity of the log: NOTSET=0."
   ]
  },
  {
   "cell_type": "markdown",
   "id": "c6bfa411",
   "metadata": {},
   "source": [
    "**Q7. What are log formatters in Python logging, and how can you customise the log\n",
    "message format using formatters?**\n",
    "\n",
    "Ans:Loggers expose the interface that application code directly uses. Handlers send the log records (created by loggers) to the appropriate destination. Filters provide a finer grained facility for determining which log records to output. Formatters specify the layout of log records in the final output."
   ]
  },
  {
   "cell_type": "markdown",
   "id": "768baa86",
   "metadata": {},
   "source": [
    "**Q8. How can you set up logging to capture log messages from multiple modules or\n",
    "classes in a Python application?**\n",
    "\n",
    "Ans:For this, we can use the sys. excepthook that allows us to attach a handler for any unhandled exception: Creating a logger logger = logging. getLogger(name) logging. basicConfig(filename='example"
   ]
  },
  {
   "cell_type": "markdown",
   "id": "7992345c",
   "metadata": {},
   "source": [
    "**Q9. What is the difference between the logging and print statements in Python? When\n",
    "should you use logging over print statements in a real-world application?**\n",
    "\n",
    "Ans:Logging in Python\tPrint in Python\n",
    "Record events and errors that occur during the execution of Python programs.\n",
    "Mainly used in the production environment.\n",
    "\n",
    "&\n",
    "\n",
    "Displays the information to the console for the debugging purposes.\n",
    "Mainly for debugging."
   ]
  },
  {
   "cell_type": "markdown",
   "id": "553cae8a",
   "metadata": {},
   "source": [
    "**Q10. Write a Python program that logs a message to a file named \"app.log\" with the\n",
    "following requirements:**\n",
    "    \n",
    "● The log message should be \"Hello, World!\"\n",
    "\n",
    "● The log level should be set to \"INFO.\"\n",
    "\n",
    "● The log file should append new log entries without overwriting previous ones."
   ]
  },
  {
   "cell_type": "code",
   "execution_count": null,
   "id": "5a585f1a",
   "metadata": {},
   "outputs": [],
   "source": []
  }
 ],
 "metadata": {
  "kernelspec": {
   "display_name": "Python 3 (ipykernel)",
   "language": "python",
   "name": "python3"
  },
  "language_info": {
   "codemirror_mode": {
    "name": "ipython",
    "version": 3
   },
   "file_extension": ".py",
   "mimetype": "text/x-python",
   "name": "python",
   "nbconvert_exporter": "python",
   "pygments_lexer": "ipython3",
   "version": "3.9.12"
  }
 },
 "nbformat": 4,
 "nbformat_minor": 5
}
