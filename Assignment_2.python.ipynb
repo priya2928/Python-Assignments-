{
 "cells": [
  {
   "cell_type": "markdown",
   "id": "134c46d0",
   "metadata": {},
   "source": [
    "Q1.What are the two values of the Boolean data type? How do you write them?\n",
    "\n",
    "Ans: Python boolean type is one of the built-in data types provided by Python, which represents one of the two values i.e. True or False. Generally, it is used to represent the truth values of the expressions."
   ]
  },
  {
   "cell_type": "code",
   "execution_count": 1,
   "id": "5b16d75f",
   "metadata": {},
   "outputs": [
    {
     "name": "stdout",
     "output_type": "stream",
     "text": [
      "True\n",
      "False\n"
     ]
    }
   ],
   "source": [
    "#Eg:\n",
    "a=True\n",
    "b=False\n",
    "print(a)\n",
    "print(b)"
   ]
  },
  {
   "cell_type": "markdown",
   "id": "26301fb8",
   "metadata": {},
   "source": [
    "Q2. What are the three different types of Boolean operators?\n",
    "\n",
    "Ans:Python has three Boolean operators, or logical operators: and , or , and not ."
   ]
  },
  {
   "cell_type": "markdown",
   "id": "b526d489",
   "metadata": {},
   "source": [
    "Q3. Make a list of each Boolean operator's truth tables (i.e. every possible combination of Boolean\n",
    "values for the operator and what it evaluate ).\n",
    "\n",
    "Ans:- \n",
    "<li>\n",
    "True and True is True.\n",
    "</li>    \n",
    "<li>\n",
    "True and False is False.\n",
    "</li>\n",
    "<li>\n",
    "False and True is False.\n",
    "</li>\n",
    "<li>\n",
    "False and False is False.\n",
    "</li>\n",
    "<li>\n",
    "True or True is True.\n",
    "</li>\n",
    "<li>\n",
    "True or False is True.\n",
    "</li>\n",
    "<li>\n",
    "False or True is True.\n",
    "</li>\n",
    "<li>    \n",
    "False or False is False.\n",
    "</li>\n",
    "<li>\n",
    "not True is False.\n",
    "</li>\n",
    "<li>\n",
    "not False is True.\n",
    "</li>\n",
    "\n",
    "True is 1 and False is 0   \n",
    "    \n",
    "<p><strong>Truth Table for AND<p><strong>\n",
    "\n",
    "A B output\n",
    "\n",
    "0 0 0\n",
    "\n",
    "0 1 0\n",
    "\n",
    "1 0 0\n",
    "\n",
    "1 1 1\n",
    "\n",
    "<p><strong>Truth Table for OR</strong></p>\n",
    "\n",
    "A B output\n",
    "\n",
    "0 0 0\n",
    "\n",
    "0 1 1\n",
    "\n",
    "1 0 1\n",
    "\n",
    "1 1 1\n",
    "\n",
    "<p><strong>Truth Table for NOT</strong></p>\n",
    "\n",
    "A output\n",
    "\n",
    "0 1\n",
    "\n",
    "1 0"
   ]
  },
  {
   "cell_type": "markdown",
   "id": "1785034d",
   "metadata": {},
   "source": [
    "Q4. What are the values of the following expressions?\n",
    "\n",
    "(5 > 4) and (3 == 5)\n",
    "\n",
    "not (5 > 4)\n",
    "\n",
    "(5 > 4) or (3 == 5)\n",
    "\n",
    "not ((5 > 4) or (3 == 5))\n",
    "\n",
    "(True and True) and (True == False)\n",
    "\n",
    "(not False) or (not True)\n"
   ]
  },
  {
   "cell_type": "code",
   "execution_count": 2,
   "id": "98f7a82c",
   "metadata": {},
   "outputs": [
    {
     "name": "stdout",
     "output_type": "stream",
     "text": [
      "False\n",
      "False\n",
      "True\n",
      "False\n",
      "False\n",
      "True\n"
     ]
    }
   ],
   "source": [
    "Ans:print((5>4) and (3==5))\n",
    "print(not(5>4))\n",
    "print((5>4) or (3==5))\n",
    "print(not(5>4) or (3==5))\n",
    "print((True and True) and (True==False))\n",
    "print((not(False))or(not(True)))"
   ]
  },
  {
   "cell_type": "markdown",
   "id": "1f7d205d",
   "metadata": {},
   "source": [
    "Q5. What are the six comparison operators?\n",
    "Ans :\n",
    "1 == : equal to\n",
    "\n",
    "2 != : not equal to\n",
    "\n",
    "3 < : less than\n",
    "\n",
    "4 > : Greater than\n",
    "\n",
    "5 <= : less than equal to\n",
    "\n",
    "6 >= : Greater than equal to"
   ]
  },
  {
   "cell_type": "markdown",
   "id": "c89f5094",
   "metadata": {},
   "source": [
    "Q6. How do you tell the difference between the equal to and assignment operators?\n",
    "Describe a condition and when you would use one\n",
    "\n",
    "Ans:== is the equal to operator that compares two values and evaluates to a Boolean,\n",
    "    while = is the assignment operator that stores a value in a variable."
   ]
  },
  {
   "cell_type": "code",
   "execution_count": 4,
   "id": "5f8814d8",
   "metadata": {},
   "outputs": [
    {
     "name": "stdout",
     "output_type": "stream",
     "text": [
      "False\n",
      "r = 1\n"
     ]
    }
   ],
   "source": [
    "#eg.\n",
    "\n",
    "# Equal To Operator\n",
    "if(5==7):\n",
    "    print(\"True\")\n",
    "else:\n",
    "    print(\"False\")\n",
    "#Assignment operator\n",
    "r=1 #here we have used assignment operator(=) to assign value of c which is 1\n",
    "print(\"r =\",r)"
   ]
  },
  {
   "cell_type": "markdown",
   "id": "d65de75d",
   "metadata": {},
   "source": [
    "Q7. Identify the three blocks in this code:\n",
    "\n",
    "spam = 0\n",
    "\n",
    "if spam == 10:\n",
    "\n",
    "print('eggs')\n",
    "\n",
    "if spam > 5:\n",
    "\n",
    "print('bacon')\n",
    "\n",
    "else:\n",
    "\n",
    "print('ham')\n",
    "\n",
    "print('spam')\n",
    "\n",
    "print('spam')\n",
    "\n",
    "Ans:"
   ]
  },
  {
   "cell_type": "code",
   "execution_count": 5,
   "id": "710f4554",
   "metadata": {},
   "outputs": [
    {
     "name": "stdout",
     "output_type": "stream",
     "text": [
      "ham\n",
      "spam\n",
      "spam\n"
     ]
    }
   ],
   "source": [
    "spam = 0\n",
    "if spam == 10:\n",
    "    print('eggs') #Block 1\n",
    "if spam > 5:\n",
    "    print('bacon') #Block 2\n",
    "else:\n",
    "    print('ham') #Block 3\n",
    "    print('spam')\n",
    "    print('spam')"
   ]
  },
  {
   "cell_type": "markdown",
   "id": "09da588b",
   "metadata": {},
   "source": [
    "Q8. Write code that prints Hello if 1 is stored in spam, prints Howdy if 2 is stored in spam, and prints Greetings! if anything else is stored in spam."
   ]
  },
  {
   "cell_type": "code",
   "execution_count": 9,
   "id": "4e5d90c3",
   "metadata": {},
   "outputs": [
    {
     "name": "stdout",
     "output_type": "stream",
     "text": [
      "Enter a number:2\n",
      "Howdy\n"
     ]
    }
   ],
   "source": [
    "spam = int(input(\"Enter a number:\"))\n",
    "if spam == 1 :\n",
    "    print(\"Hello\")\n",
    "elif spam == 2:\n",
    "    print(\"Howdy\")\n",
    "else:\n",
    "    print(\"Greetings\")"
   ]
  },
  {
   "cell_type": "markdown",
   "id": "f9132520",
   "metadata": {},
   "source": [
    "Q9.If your programme is stuck in an endless loop, what keys you’ll press?\n",
    "\n",
    "Ans . If program is stuck in endless loop we will press ctrl+c."
   ]
  },
  {
   "cell_type": "markdown",
   "id": "dce13aa5",
   "metadata": {},
   "source": [
    "Q10. How can you tell the difference between break and continue?\n",
    "\n",
    "Ans . The break statement will move the execution outside and just after a loop. The continue statement will move the execution to the start of the loop."
   ]
  },
  {
   "cell_type": "code",
   "execution_count": 13,
   "id": "38f277c3",
   "metadata": {},
   "outputs": [
    {
     "name": "stdout",
     "output_type": "stream",
     "text": [
      "number is  1 square is 1\n",
      "number is  2 square is 4\n",
      "number is  3 square is 9\n",
      "number is  4 square is 16\n",
      "number is  5 square is 25\n",
      "number is  6 square is 36\n",
      "number is  7 square is 49\n",
      "number is  8 square is 64\n",
      "number is  9 square is 81\n",
      "number is  10 square is 100\n",
      "number is  11 square is 121\n",
      "number is  12 square is 144\n",
      "number is  13 square is 169\n",
      "number is  14 square is 196\n",
      "number is  15 square is 225\n",
      "number is  16 square is 256\n",
      "number is  17 square is 289\n",
      "number is  18 square is 324\n",
      "number is  19 square is 361\n",
      "number is  20 square is 400\n",
      "number is  21 square is 441\n",
      "number is  22 square is 484\n",
      "number is  23 square is 529\n",
      "number is  24 square is 576\n",
      "number is  25 square is 625\n",
      "number is  26 square is 676\n",
      "number is  27 square is 729\n",
      "number is  28 square is 784\n",
      "number is  29 square is 841\n",
      "number is  30 square is 900\n",
      "number is  31 square is 961\n",
      "----------------------------------------------------\n",
      "the square of 1 is 1\n",
      "the square of 2 is 4\n",
      "the square of 3 is 9\n",
      "the square of 4 is 16\n",
      "the square of 5 is 25\n",
      "the square of 7 is 49\n",
      "the square of 8 is 64\n",
      "the square of 9 is 81\n",
      "the square of 10 is 100\n",
      "the square of 11 is 121\n",
      "the square of 13 is 169\n",
      "the square of 14 is 196\n",
      "the square of 15 is 225\n",
      "the square of 16 is 256\n",
      "the square of 17 is 289\n",
      "the square of 19 is 361\n",
      "the square of 20 is 400\n",
      "the square of 21 is 441\n",
      "the square of 22 is 484\n",
      "the square of 23 is 529\n",
      "the square of 25 is 625\n"
     ]
    }
   ],
   "source": [
    "# use of break\n",
    "# print the square of all the numbers till the time square is in 3 digit\n",
    "i = 1\n",
    "while i < 100000000 :\n",
    "    print(\"number is \", i, \"square is\", i**2)\n",
    "    i = i + 1\n",
    "    if i**2 > 999:\n",
    "        break\n",
    "print('----------------------------------------------------')\n",
    "\n",
    "\n",
    "#use of  continue\n",
    "##  print the square for the numbers 1 till 25 but if number is divisible by 6 then no action should be taken\n",
    "i = 1\n",
    "while i <= 25 :\n",
    "   \n",
    "    if i % 6 == 0:\n",
    "        i = i + 1\n",
    "        continue\n",
    "    else:\n",
    "        print(\"the square of\", i, \"is\", i ** 2)\n",
    "        i = i + 1\n",
    "    "
   ]
  },
  {
   "cell_type": "markdown",
   "id": "299da548",
   "metadata": {},
   "source": [
    "Q11. In a for loop, what is the difference between range(10), range(0, 10), and range(0, 10, 1)?\n",
    "\n",
    "Ans:"
   ]
  },
  {
   "cell_type": "code",
   "execution_count": 19,
   "id": "7f0b6cbe",
   "metadata": {},
   "outputs": [
    {
     "name": "stdout",
     "output_type": "stream",
     "text": [
      "[0, 1, 2, 3, 4, 5, 6, 7, 8, 9]\n",
      "---------------------------------\n",
      "[0, 1, 2, 3, 4, 5, 6, 7, 8, 9]\n",
      "---------------------------------\n",
      "[0, 1, 2, 3, 4, 5, 6, 7, 8, 9]\n"
     ]
    }
   ],
   "source": [
    "l1 = []\n",
    "l2 = []\n",
    "l3 = []\n",
    "\n",
    "for i in range(10):\n",
    "    l1.append(i)\n",
    "print(l1)\n",
    "    \n",
    "print('---------------------------------')\n",
    "for i in range(0, 10):\n",
    "    l2.append(i)\n",
    "print(l2)\n",
    "    \n",
    "print('---------------------------------')\n",
    "for i in range(0, 10, 1):\n",
    "    l3.append(i)\n",
    "print(l3)"
   ]
  },
  {
   "cell_type": "markdown",
   "id": "df8c18ab",
   "metadata": {},
   "source": [
    "From the above output we can conclude that they all do the same thing. The range(10) call ranges from 0 up to (but not including) 10, range(0, 10) tells the loop to start at 0, and range(0, 10, 1) tells the loop to increase the variable by 1 on each iteration."
   ]
  },
  {
   "cell_type": "markdown",
   "id": "aac723ce",
   "metadata": {},
   "source": [
    "Q12. Write a short program that prints the numbers 1 to 10 using a for loop. Then write an equivalent program that prints the numbers 1 to 10 using a while loop.\n",
    "\n",
    "Ans:"
   ]
  },
  {
   "cell_type": "code",
   "execution_count": 22,
   "id": "49f79df4",
   "metadata": {},
   "outputs": [
    {
     "name": "stdout",
     "output_type": "stream",
     "text": [
      "1\n",
      "2\n",
      "3\n",
      "4\n",
      "5\n",
      "6\n",
      "7\n",
      "8\n",
      "9\n",
      "10\n",
      "-------------------------------\n",
      "1\n",
      "2\n",
      "3\n",
      "4\n",
      "5\n",
      "6\n",
      "7\n",
      "8\n",
      "9\n",
      "10\n"
     ]
    }
   ],
   "source": [
    "# using for loop\n",
    "\n",
    "for i in list(range(1, 11)):\n",
    "    print(i)\n",
    "    \n",
    "print(\"-------------------------------\")\n",
    "\n",
    "# using while loop\n",
    "\n",
    "i = 1\n",
    "while i <= 10:\n",
    "    print(i)\n",
    "    i = i + 1"
   ]
  },
  {
   "cell_type": "markdown",
   "id": "e3dd3f5b",
   "metadata": {},
   "source": [
    "13. If you had a function named bacon() inside a module named spam, how would you call it after importing spam?\n",
    "\n",
    "Ans:This function can be called with spam.bacon()."
   ]
  }
 ],
 "metadata": {
  "kernelspec": {
   "display_name": "Python 3 (ipykernel)",
   "language": "python",
   "name": "python3"
  },
  "language_info": {
   "codemirror_mode": {
    "name": "ipython",
    "version": 3
   },
   "file_extension": ".py",
   "mimetype": "text/x-python",
   "name": "python",
   "nbconvert_exporter": "python",
   "pygments_lexer": "ipython3",
   "version": "3.9.12"
  }
 },
 "nbformat": 4,
 "nbformat_minor": 5
}
