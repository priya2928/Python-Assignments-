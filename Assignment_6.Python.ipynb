{
 "cells": [
  {
   "cell_type": "markdown",
   "id": "c2e352c7",
   "metadata": {},
   "source": [
    "Q.1. What are keywords in python? Using the keyword library, print all the python keywords.\n",
    "\n",
    "Ans:\n",
    "Keywords in Python are reserved words that can not be used as a variable name, function name, or any other identifier."
   ]
  },
  {
   "cell_type": "code",
   "execution_count": 3,
   "id": "144b2e2d",
   "metadata": {},
   "outputs": [
    {
     "name": "stdout",
     "output_type": "stream",
     "text": [
      "['False', 'None', 'True', '__peg_parser__', 'and', 'as', 'assert', 'async', 'await', 'break', 'class', 'continue', 'def', 'del', 'elif', 'else', 'except', 'finally', 'for', 'from', 'global', 'if', 'import', 'in', 'is', 'lambda', 'nonlocal', 'not', 'or', 'pass', 'raise', 'return', 'try', 'while', 'with', 'yield']\n"
     ]
    }
   ],
   "source": [
    "import keyword\n",
    "print(keyword.kwlist)"
   ]
  },
  {
   "cell_type": "markdown",
   "id": "078021fc",
   "metadata": {},
   "source": [
    "Q.2. What are the rules to create variables in python?\n",
    "\n",
    "Ans:\n",
    "A variable name must start with a letter or the underscore character\n",
    "A variable name cannot start with a number\n",
    "A variable name can only contain alpha-numeric characters and underscores (A-z, 0-9, and _ )\n",
    "Variable names are case-sensitive (age, Age and AGE are three different variables)\n",
    "A variable name cannot be any of the Python keywords."
   ]
  },
  {
   "cell_type": "markdown",
   "id": "0697c79d",
   "metadata": {},
   "source": [
    "Q.3. What are the standards and conventions followed for the nomenclature of variables in\n",
    "python to improve code readability and maintainability?\n",
    "\n",
    "Ans:\n",
    "    Use grammatically correct variable names, the class name should start with an uppercase and must follow camelCase convention If more than two words are to be used. In the same way, a function name should be joined with an underscore, and it must be lowercase."
   ]
  },
  {
   "cell_type": "markdown",
   "id": "f4bee05a",
   "metadata": {},
   "source": [
    "Q.4. What will happen if a keyword is used as a variable name?\n",
    "\n",
    "Ans:\n",
    "  It makes the compiler's life hard. If keywords were allowed as variable names, it would be very hard to tell (for the developers and the compilers) whether something was a variable or a keyword"
   ]
  },
  {
   "cell_type": "markdown",
   "id": "60ebde9f",
   "metadata": {},
   "source": [
    "Q.5. For what purpose def keyword is used?\n",
    "\n",
    "Ans:\n",
    "The def keyword is used to create, (or define) a function."
   ]
  },
  {
   "cell_type": "markdown",
   "id": "2edb611c",
   "metadata": {},
   "source": [
    "Q.6. What is the operation of this special character ‘\\’?\n",
    "\n",
    "Ans:\n",
    "In Python strings, the backslash \"\\\" is a special character, also called the \"escape\" character. It is used in representing certain whitespace characters: \"\\t\" is a tab, \"\\n\" is a newline, and \"\\r\" is a carriage return."
   ]
  },
  {
   "cell_type": "markdown",
   "id": "a90b456d",
   "metadata": {},
   "source": [
    "Q.7. Give an example of the following conditions:\n",
    "\n",
    "(i) Homogeneous list\n",
    "(ii) Heterogeneous set\n",
    "(iii) Homogeneous tuple"
   ]
  },
  {
   "cell_type": "markdown",
   "id": "9ad9207e",
   "metadata": {},
   "source": [
    "(i) Homogeneous list :\n",
    "\n",
    "The Python list can be either homogeneous or heterogeneous. Homogeneous means that it only contains a single type of data. "
   ]
  },
  {
   "cell_type": "code",
   "execution_count": 4,
   "id": "be669560",
   "metadata": {},
   "outputs": [
    {
     "name": "stdout",
     "output_type": "stream",
     "text": [
      "['apple', 'banana', 'cherry']\n"
     ]
    }
   ],
   "source": [
    "fruits = [\"apple\", \"banana\", \"cherry\"]\n",
    "print(fruits)                             ## the all elements here is a string"
   ]
  },
  {
   "cell_type": "markdown",
   "id": "ce18dd74",
   "metadata": {},
   "source": [
    "(ii) Heterogeneous set:\n",
    "    \n",
    "    Python sets can store heterogeneous elements in it, i.e., a set can store a mixture of string, integer, boolean, etc datatypes."
   ]
  },
  {
   "cell_type": "code",
   "execution_count": 5,
   "id": "f21bbd64",
   "metadata": {},
   "outputs": [
    {
     "name": "stdout",
     "output_type": "stream",
     "text": [
      "{'WE', True, 52.7, 'for', 10}\n"
     ]
    }
   ],
   "source": [
    "myset = {\"WE\", \"for\", 10, 52.7, True}\n",
    "print(myset)"
   ]
  },
  {
   "cell_type": "markdown",
   "id": "36356fb3",
   "metadata": {},
   "source": [
    " (iii) Homogeneous tuple: \n",
    "        \n",
    "        Tuples usually contain a heterogeneous sequence of elements, while lists usually contain a homogeneous sequence"
   ]
  },
  {
   "cell_type": "code",
   "execution_count": 6,
   "id": "6c581fbd",
   "metadata": {},
   "outputs": [
    {
     "name": "stdout",
     "output_type": "stream",
     "text": [
      "(1, 2, 3, 4, 5)\n"
     ]
    }
   ],
   "source": [
    "my_tuple = (1, 2, 3, 4, 5)\n",
    "print(my_tuple)"
   ]
  },
  {
   "cell_type": "markdown",
   "id": "bd6bc7de",
   "metadata": {},
   "source": [
    "Q.8. Explain the mutable and immutable data types with proper explanation & examples.\n",
    "\n",
    "Ans:\n",
    "\n",
    "1. Mutable data type :\n",
    "Examples: lists, dictionaries, sets. Can be used when flexibility and change are required\n",
    "\n",
    "2. Immutable data types: \n",
    "Examples: numbers, strings, tuples. Can be used when stability and consistency are needed"
   ]
  },
  {
   "cell_type": "markdown",
   "id": "4fff85ab",
   "metadata": {},
   "source": [
    "Q.9. Write a code to create the given structure using only for loop.\n"
   ]
  },
  {
   "cell_type": "code",
   "execution_count": 7,
   "id": "1969babc",
   "metadata": {},
   "outputs": [
    {
     "name": "stdout",
     "output_type": "stream",
     "text": [
      "* \n",
      "* * \n",
      "* * * \n",
      "* * * * \n",
      "* * * * * \n"
     ]
    }
   ],
   "source": [
    "rows = 5\n",
    "\n",
    "for i in range(rows):\n",
    "    for j in range(i + 1):\n",
    "        print(\"*\", end = \" \")\n",
    "    print()"
   ]
  },
  {
   "cell_type": "markdown",
   "id": "a8eb9908",
   "metadata": {},
   "source": [
    "Q.10. Write a code to create the given structure using while loop.\n"
   ]
  },
  {
   "cell_type": "code",
   "execution_count": 9,
   "id": "eccdb088",
   "metadata": {},
   "outputs": [
    {
     "name": "stdout",
     "output_type": "stream",
     "text": [
      "|||||\n",
      "||||\n",
      "|||\n",
      "||\n",
      "|\n"
     ]
    }
   ],
   "source": [
    "i = 5\n",
    "while i > 0:\n",
    "    print(\"|\" * i)\n",
    "    i = i - 1"
   ]
  },
  {
   "cell_type": "code",
   "execution_count": null,
   "id": "79b7ca8c",
   "metadata": {},
   "outputs": [],
   "source": []
  }
 ],
 "metadata": {
  "kernelspec": {
   "display_name": "Python 3 (ipykernel)",
   "language": "python",
   "name": "python3"
  },
  "language_info": {
   "codemirror_mode": {
    "name": "ipython",
    "version": 3
   },
   "file_extension": ".py",
   "mimetype": "text/x-python",
   "name": "python",
   "nbconvert_exporter": "python",
   "pygments_lexer": "ipython3",
   "version": "3.9.12"
  }
 },
 "nbformat": 4,
 "nbformat_minor": 5
}
