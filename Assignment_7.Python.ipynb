{
 "cells": [
  {
   "cell_type": "markdown",
   "id": "3915119c",
   "metadata": {},
   "source": [
    "Q.1. Create two int type variables, apply addition, subtraction, division and multiplications\n",
    "and store the results in variables. Then print the data in the following format by calling the\n",
    "variables:\n",
    "\n",
    "First variable is __ & second variable is __.\n",
    "\n",
    "Addition: __ + __ = __\n",
    "\n",
    "Subtraction: __ - __ = __\n",
    "\n",
    "Multiplication: __ * __ = __\n",
    "\n",
    "Division: __ / __ = __"
   ]
  },
  {
   "cell_type": "code",
   "execution_count": 3,
   "id": "7cd7ac92",
   "metadata": {},
   "outputs": [],
   "source": [
    "num1 = 10\n",
    "num2 = 5\n",
    "\n",
    "Sum   = num1 + num2;   # Calculate the sum of 'num1' and 'num2'.\n",
    "Sub   = num1 - num2;   # Calculate the difference between 'num1' and 'num2'.\n",
    "Multi = num1 * num2;   # Calculate the product of 'num1' and 'num2'.\n",
    "Div   = num1 / num2;   # Calculate the division of 'num1' by 'num2' ."
   ]
  },
  {
   "cell_type": "code",
   "execution_count": 11,
   "id": "3c8ff357",
   "metadata": {},
   "outputs": [
    {
     "name": "stdout",
     "output_type": "stream",
     "text": [
      "Addition :      10 + 5 = 15\n",
      "Subtraction:    10 - 5 = 5\n",
      "Multiplication: 10 * 5 = 50\n",
      "Division: 10 / 5 = 2.0\n"
     ]
    }
   ],
   "source": [
    "print(\"Addition :\", \"    \", num1, \"+\" , num2, \"=\", Sum)\n",
    "print(\"Subtraction:\",\"  \", num1, \"-\" , num2, \"=\", Sub)\n",
    "print(\"Multiplication:\",num1, \"*\" , num2, \"=\", Multi)\n",
    "print(\"Division:\", num1, \"/\" , num2, \"=\", Div)"
   ]
  },
  {
   "cell_type": "markdown",
   "id": "889e4ae9",
   "metadata": {},
   "source": [
    "Q.2. What is the difference between the following operators:\n",
    "\n",
    "(i) ‘/’ & ‘//’\n",
    "\n",
    "(ii) ‘**’"
   ]
  },
  {
   "cell_type": "markdown",
   "id": "ae93b3d4",
   "metadata": {},
   "source": [
    "(i) ‘/’ & ‘//’ (Division and Floor division operator):\n",
    "\n",
    "The result of regular division is always a float, whereas if one of the operands is a float in floor division, then the output will be a float. "
   ]
  },
  {
   "cell_type": "code",
   "execution_count": 12,
   "id": "4781b71c",
   "metadata": {},
   "outputs": [
    {
     "name": "stdout",
     "output_type": "stream",
     "text": [
      "1.0 \tis a float.\n",
      "3 \tis an int.\n",
      "3.0 \tis a float.\n"
     ]
    }
   ],
   "source": [
    "print(2 / 2, \"\\tis a float.\")\n",
    "print(15 // 4, \"\\tis an int.\")\n",
    "print(15.0 // 4, \"\\tis a float.\")"
   ]
  },
  {
   "cell_type": "markdown",
   "id": "44fecc0b",
   "metadata": {},
   "source": [
    "(ii) '**' (Exponential operator) :\n",
    "    \n",
    "    It takes in two real numbers as input arguments and returns a single number. The operator that can be used to perform the exponent arithmetic in Python is ** "
   ]
  },
  {
   "cell_type": "code",
   "execution_count": 14,
   "id": "f33ef02c",
   "metadata": {},
   "outputs": [
    {
     "name": "stdout",
     "output_type": "stream",
     "text": [
      "32\n"
     ]
    }
   ],
   "source": [
    "print(2 ** 5)"
   ]
  },
  {
   "cell_type": "markdown",
   "id": "c26028ed",
   "metadata": {},
   "source": [
    "Q.3. List the logical operators.\n",
    "\n",
    "Ans:\n",
    "\n",
    "<p><strong>AND Operator <code>&amp;</code></strong>: Compares each bit of the first operand with the corresponding bit of the second operand. If both bits are 1, the corresponding result bit is set to 1. Otherwise, the result bit is set to 0.</p>\n",
    "\n",
    "<p><strong>OR Operator <code>|</code></strong>: Compares each bit of the first operand with the corresponding bit of the second operand. If either bit is 1, the corresponding result bit is set to 1. Otherwise, the result bit is set to 0.</p>\n",
    "\n",
    "<p><strong>NOT Operator <code>~</code></strong>: Inverts all the bits of the operand. Every 0 is changed to 1, and every 1 is changed to 0.</p>\n",
    "\n",
    "<p><strong>XOR Operator <code>^</code></strong>: Compares each bit of the first operand with the corresponding bit of the second operand. If one of the bits is 1 (but not both), the corresponding result bit is set to 1. Otherwise, the result bit is set to 0.</p>\n",
    "\n"
   ]
  },
  {
   "cell_type": "markdown",
   "id": "591572eb",
   "metadata": {},
   "source": [
    "Q.4. Explain right shift operator and left shift operator with examples.\n",
    "\n",
    "Ans:\n",
    "\n",
    "<p><strong>Right Shift Operator <code>&gt;&gt;</code></strong>: Shifts the bits of the number to the right by the number of bits specified. Each shift to the right corresponds to dividing the number by 2.</p>"
   ]
  },
  {
   "cell_type": "code",
   "execution_count": 15,
   "id": "955b5b0e",
   "metadata": {},
   "outputs": [
    {
     "name": "stdout",
     "output_type": "stream",
     "text": [
      "2\n"
     ]
    }
   ],
   "source": [
    "a = 10        # in binary: 1010\n",
    "result = a >> 2  # result is 2 (in binary: 0010)\n",
    "print(result)"
   ]
  },
  {
   "cell_type": "markdown",
   "id": "0e31b0fe",
   "metadata": {},
   "source": [
    "<p><strong>Left Shift Operator <code>&lt;&lt;</code></strong>: Shifts the bits of the number to the left by the number of bits specified. Each shift to the left corresponds to multiplying the number by 2.</p>"
   ]
  },
  {
   "cell_type": "code",
   "execution_count": 16,
   "id": "cbbcd8cf",
   "metadata": {},
   "outputs": [
    {
     "name": "stdout",
     "output_type": "stream",
     "text": [
      "40\n"
     ]
    }
   ],
   "source": [
    "a = 10        # in binary: 1010\n",
    "result = a << 2  # result is 40 (in binary: 101000)\n",
    "print(result)"
   ]
  },
  {
   "cell_type": "markdown",
   "id": "3a3062ed",
   "metadata": {},
   "source": [
    "Q.5. Create a list containing int type data of length 15. Then write a code to check if 10 is\n",
    "present in the list or not."
   ]
  },
  {
   "cell_type": "code",
   "execution_count": 40,
   "id": "458affac",
   "metadata": {},
   "outputs": [
    {
     "name": "stdout",
     "output_type": "stream",
     "text": [
      "exist\n"
     ]
    }
   ],
   "source": [
    "list = [1, 2, 3, 4, 5, 6, 7, 8, 9, 10, 11, 12, 13, 14, 17]\n",
    "\n",
    "i = 10\n",
    "\n",
    "if i in list: \n",
    "    print(\"exist\") \n",
    "else: \n",
    "    print(\"not exist\")"
   ]
  },
  {
   "cell_type": "code",
   "execution_count": null,
   "id": "3e66e8fc",
   "metadata": {},
   "outputs": [],
   "source": []
  }
 ],
 "metadata": {
  "kernelspec": {
   "display_name": "Python 3 (ipykernel)",
   "language": "python",
   "name": "python3"
  },
  "language_info": {
   "codemirror_mode": {
    "name": "ipython",
    "version": 3
   },
   "file_extension": ".py",
   "mimetype": "text/x-python",
   "name": "python",
   "nbconvert_exporter": "python",
   "pygments_lexer": "ipython3",
   "version": "3.9.12"
  }
 },
 "nbformat": 4,
 "nbformat_minor": 5
}
