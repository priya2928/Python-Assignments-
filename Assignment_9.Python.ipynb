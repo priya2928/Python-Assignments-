{
 "cells": [
  {
   "cell_type": "markdown",
   "id": "e4d894d6",
   "metadata": {},
   "source": [
    "**Q1. What is a lambda function in Python, and how does it differ from a regular function?**\n",
    "\n",
    "Ans:A lambda function is a small anonymous function. A lambda function can take any number of arguments, but can only have one expression.\n",
    "\n",
    " Lambda functions have a more concise syntax than regular functions, making them suitable for simple functions that can be defined in a single line of code. Regular functions, on the other hand, can contain multiple statements and are more suitable for complex logic."
   ]
  },
  {
   "cell_type": "markdown",
   "id": "2277bb8e",
   "metadata": {},
   "source": [
    "**Q2. Can a lambda function in Python have multiple arguments? If yes, how can you define and use\n",
    "them?**\n",
    "\n",
    "Ans: They can have any number of arguments but only one expression. A lambda function cannot contain any statements, and it returns a function object which can be assigned to any variable. They are generally used for one-line expressions. Normal functions are created using the def keyword."
   ]
  },
  {
   "cell_type": "markdown",
   "id": "c5a4f3a0",
   "metadata": {},
   "source": [
    "**Q3. How are lambda functions typically used in Python? Provide an example use case.**\n",
    "\n",
    "Ans: We should use the lambda function to create simple expressions. For example, expressions that do not include complex structures such as if-else, for-loops, and so on. So, for example, if we want to create a function with a for-loop, we should use a user-defined function."
   ]
  },
  {
   "cell_type": "markdown",
   "id": "c23fe99e",
   "metadata": {},
   "source": [
    "**Q4. What are the advantages and limitations of lambda functions compared to regular functions in\n",
    "Python?**\n",
    "\n",
    "Ans: Lambda functions can be a powerful tool for writing concise, readable, and efficient code. But they have some limitations, such as being restricted to a single expression and having limited functionality compared to named functions."
   ]
  },
  {
   "cell_type": "markdown",
   "id": "1864b2ef",
   "metadata": {},
   "source": [
    "**Q5. Are lambda functions in Python able to access variables defined outside of their own scope?\n",
    "Explain with an example.**\n",
    "\n",
    "Ans:Lambda functions have their own local namespace and cannot access variables other than those in their parameter list and those in the global namespace"
   ]
  },
  {
   "cell_type": "markdown",
   "id": "f6b215d5",
   "metadata": {},
   "source": [
    "**Q6. Write a lambda function to calculate the square of a given number.**"
   ]
  },
  {
   "cell_type": "code",
   "execution_count": 6,
   "id": "23cbbac8",
   "metadata": {},
   "outputs": [
    {
     "data": {
      "text/plain": [
       "[25, 9, 49, 64]"
      ]
     },
     "execution_count": 6,
     "metadata": {},
     "output_type": "execute_result"
    }
   ],
   "source": [
    "l1 = [5, 3, 7, 8]\n",
    "list(map(lambda x : x*x , l1))"
   ]
  },
  {
   "cell_type": "code",
   "execution_count": 7,
   "id": "40bb24e6",
   "metadata": {},
   "outputs": [],
   "source": [
    "square_num = lambda a : (a**2)"
   ]
  },
  {
   "cell_type": "code",
   "execution_count": 8,
   "id": "12d1e5dc",
   "metadata": {},
   "outputs": [
    {
     "data": {
      "text/plain": [
       "25"
      ]
     },
     "execution_count": 8,
     "metadata": {},
     "output_type": "execute_result"
    }
   ],
   "source": [
    "square_num(5)"
   ]
  },
  {
   "cell_type": "markdown",
   "id": "ae261593",
   "metadata": {},
   "source": [
    "**Q7. Create a lambda function to find the maximum value in a list of integers.**"
   ]
  },
  {
   "cell_type": "code",
   "execution_count": 11,
   "id": "f5151f2a",
   "metadata": {},
   "outputs": [
    {
     "data": {
      "text/plain": [
       "98"
      ]
     },
     "execution_count": 11,
     "metadata": {},
     "output_type": "execute_result"
    }
   ],
   "source": [
    "l2 = [20, 40, 30, 10, 55, 63, 98, 45]\n",
    "\n",
    "max(l2, key=lambda x : int(x))"
   ]
  },
  {
   "cell_type": "markdown",
   "id": "1fcbfa5b",
   "metadata": {},
   "source": [
    "**Q8. Implement a lambda function to filter out all the even numbers from a list of integers.**"
   ]
  },
  {
   "cell_type": "code",
   "execution_count": 18,
   "id": "1b0a032e",
   "metadata": {},
   "outputs": [
    {
     "data": {
      "text/plain": [
       "[10, 14, 20, 28, 50]"
      ]
     },
     "execution_count": 18,
     "metadata": {},
     "output_type": "execute_result"
    }
   ],
   "source": [
    "l3 = [10, 9, 11, 14, 15, 20, 28, 50, 51]\n",
    "\n",
    "list(filter(lambda x : x % 2 == 0, l3))"
   ]
  },
  {
   "cell_type": "markdown",
   "id": "ec8f49b3",
   "metadata": {},
   "source": [
    "**Q9. Write a lambda function to sort a list of strings in ascending order based on the length of each\n",
    "string.**"
   ]
  },
  {
   "cell_type": "code",
   "execution_count": 21,
   "id": "2bf0a0e0",
   "metadata": {},
   "outputs": [
    {
     "name": "stdout",
     "output_type": "stream",
     "text": [
      "['n', 'hh', 'vvv', 'cccc', 'ddddd']\n"
     ]
    }
   ],
   "source": [
    "l4 = ['hh', 'vvv','n', 'cccc', 'ddddd']\n",
    "l4.sort(key = lambda x:len(x))\n",
    "print(l4)"
   ]
  },
  {
   "cell_type": "markdown",
   "id": "bf1e9699",
   "metadata": {},
   "source": [
    "**Q10. Create a lambda function that takes two lists as input and returns a new list containing the\n",
    "common elements between the two lists.**"
   ]
  },
  {
   "cell_type": "code",
   "execution_count": 47,
   "id": "6879a864",
   "metadata": {},
   "outputs": [
    {
     "data": {
      "text/plain": [
       "{4, 5, 6}"
      ]
     },
     "execution_count": 47,
     "metadata": {},
     "output_type": "execute_result"
    }
   ],
   "source": [
    "a = [1, 2, 3,4, 5, 6]\n",
    "b = [4, 5, 6, 7, 8, 9]\n",
    "\n",
    "set(list(filter(lambda x : x in common,  a + b )))"
   ]
  },
  {
   "cell_type": "markdown",
   "id": "09b1bd7f",
   "metadata": {},
   "source": [
    "**Q11. Write a recursive function to calculate the factorial of a given positive integer.**"
   ]
  },
  {
   "cell_type": "code",
   "execution_count": 48,
   "id": "0958f232",
   "metadata": {},
   "outputs": [
    {
     "name": "stdout",
     "output_type": "stream",
     "text": [
      "Factorial of number  10 is 3628800\n"
     ]
    }
   ],
   "source": [
    "def fact_num(n):\n",
    "    if n < 0 :\n",
    "        return(\"factorial is not defined, enter +ve integer\")\n",
    "    i = 1\n",
    "    fact = 1\n",
    "    while i <= n :  ## (i will be from 1, 2, 3, 4, 5)\n",
    "        fact = fact * i\n",
    "        i = i + 1\n",
    "    print(\"Factorial of number \", n, \"is\", fact)\n",
    "    \n",
    "fact_num(10)"
   ]
  },
  {
   "cell_type": "markdown",
   "id": "92f8114b",
   "metadata": {},
   "source": [
    "**Q12. Implement a recursive function to compute the nth Fibonacci number.**"
   ]
  },
  {
   "cell_type": "code",
   "execution_count": 56,
   "id": "b48b44ce",
   "metadata": {},
   "outputs": [
    {
     "name": "stdout",
     "output_type": "stream",
     "text": [
      "2\n"
     ]
    }
   ],
   "source": [
    "def Fibonacci(n):\n",
    "    if n<= 0:\n",
    "        print(\"Incorrect input\")\n",
    "    # First Fibonacci number is 0\n",
    "    elif n == 1:\n",
    "        return 0\n",
    "    # Second Fibonacci number is 1\n",
    "    elif n == 2:\n",
    "        return 1\n",
    "    else:\n",
    "        return Fibonacci(n-1)+Fibonacci(n-2)\n",
    "    \n",
    "print(Fibonacci(4))"
   ]
  },
  {
   "cell_type": "markdown",
   "id": "5d8f6cfe",
   "metadata": {},
   "source": [
    "**Q13. Create a recursive function to find the sum of all the elements in a given list.**"
   ]
  },
  {
   "cell_type": "code",
   "execution_count": 58,
   "id": "ccf938ca",
   "metadata": {},
   "outputs": [
    {
     "data": {
      "text/plain": [
       "15"
      ]
     },
     "execution_count": 58,
     "metadata": {},
     "output_type": "execute_result"
    }
   ],
   "source": [
    "def getSum(iterable):\n",
    "    if not iterable:\n",
    "        return 0  \n",
    "    else:\n",
    "        return iterable[0] + getSum(iterable[1:])\n",
    "\n",
    "    \n",
    "getSum([1, 3, 4, 2, 5])"
   ]
  },
  {
   "cell_type": "markdown",
   "id": "7c1a3f28",
   "metadata": {},
   "source": [
    "**Q14. Write a recursive function to determine whether a given string is a palindrome.**"
   ]
  },
  {
   "cell_type": "code",
   "execution_count": 59,
   "id": "784c785a",
   "metadata": {},
   "outputs": [
    {
     "name": "stdout",
     "output_type": "stream",
     "text": [
      "Enter the name :bob\n",
      "bob  is a palindrome\n"
     ]
    }
   ],
   "source": [
    "name = input(\"Enter the name :\")\n",
    "\n",
    "if  name == name[::-1]:\n",
    "    print(name,\" is a palindrome\")\n",
    "else:\n",
    "    print(name, \"is not a palindrome\")"
   ]
  },
  {
   "cell_type": "markdown",
   "id": "a88a4021",
   "metadata": {},
   "source": [
    "**Q15. Implement a recursive function to find the greatest common divisor (GCD) of two positive integers.**"
   ]
  },
  {
   "cell_type": "code",
   "execution_count": 61,
   "id": "3fe6c68e",
   "metadata": {},
   "outputs": [
    {
     "data": {
      "text/plain": [
       "5"
      ]
     },
     "execution_count": 61,
     "metadata": {},
     "output_type": "execute_result"
    }
   ],
   "source": [
    "def gcd(a,b):\n",
    "    if(b==0):\n",
    "        return a\n",
    "    else:\n",
    "        return gcd(b,a%b)\n",
    "    \n",
    "gcd(5, 10)"
   ]
  },
  {
   "cell_type": "code",
   "execution_count": null,
   "id": "b0a6e639",
   "metadata": {},
   "outputs": [],
   "source": []
  }
 ],
 "metadata": {
  "kernelspec": {
   "display_name": "Python 3 (ipykernel)",
   "language": "python",
   "name": "python3"
  },
  "language_info": {
   "codemirror_mode": {
    "name": "ipython",
    "version": 3
   },
   "file_extension": ".py",
   "mimetype": "text/x-python",
   "name": "python",
   "nbconvert_exporter": "python",
   "pygments_lexer": "ipython3",
   "version": "3.9.12"
  }
 },
 "nbformat": 4,
 "nbformat_minor": 5
}
