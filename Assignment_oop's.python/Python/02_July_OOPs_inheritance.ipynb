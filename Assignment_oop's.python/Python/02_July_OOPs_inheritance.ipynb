{
 "cells": [
  {
   "cell_type": "markdown",
   "id": "f18e3343",
   "metadata": {},
   "source": [
    "**Q1. Explain what inheritance is in object-oriented programming and why it is used.**\n",
    "\n",
    "Ans:Inheritance is creating a PARENT-CHILD relationship between two classes where child automatically get the properties and methods of the parent. Why inheritance is an important concept in software? Inheritance is good for: REUSABILITY and ABSTRACTION of code."
   ]
  },
  {
   "cell_type": "markdown",
   "id": "3d0fcbbd",
   "metadata": {},
   "source": [
    "**Q2. Discuss the concept of single inheritance and multiple inheritance, highlighting their\n",
    "differences and advantages.**\n",
    "\n",
    "Ans:In inheritance, the existing class is called the parent class, superclass or the base class. The new class called the child class, subclass or derived class. Using inheritance, the subclass can use the properties and methods of the superclass. Thus, programmers do not have to implement the whole program from the beginning. Single inheritance is the simplest form of inheritance.\n",
    "\n",
    "&\n",
    "\n",
    "In multiple inheritance, the new class can use the properties and methods of multiple classes. Programmer can implement multiple inheritance in languages such as C++. However, languages such as Java and C# does not support multiple inheritance. Instead, these languages use interfaces to implement multiple inheritance."
   ]
  },
  {
   "cell_type": "markdown",
   "id": "7875e83d",
   "metadata": {},
   "source": [
    "**Q3. Explain the terms \"base class\" and \"derived class\" in the context of inheritance.**\n",
    "\n",
    "Ans:Classes that inherit from another are called derived classes, subclasses, or subtypes. Classes from which other classes are derived are called base classes or super classes. A derived class is said to derive, inherit, or extend a base class."
   ]
  },
  {
   "cell_type": "markdown",
   "id": "468439d0",
   "metadata": {},
   "source": [
    "**Q4. What is the significance of the \"protected\" access modifier in inheritance? How does\n",
    "it differ from \"private\" and \"public\" modifiers?**\n",
    "\n",
    "Ans:When a class member is declared as public, it can be accessed from anywhere. If a class member is declared as protected, it can only be accessed within the class itself and its parent and inherited classes. If a class member is declared as private, only the defining class can access it.\n",
    "\n",
    "private - members cannot be accessed (or viewed) from outside the class. protected - members cannot be accessed from outside the class, however, they can be accessed in inherited classes."
   ]
  },
  {
   "cell_type": "markdown",
   "id": "81452bd1",
   "metadata": {},
   "source": [
    "**Q5. What is the purpose of the \"super\" keyword in inheritance? Provide an example.**\n",
    "\n",
    "Ans:The 'super' keyword allows referencing the parent class or superclass of a subclass in Java. It is often employed to access members (fields or methods) of the superclass that have been overridden in the subclass. You can call the superclass's method from within the subclass using super. methodName()."
   ]
  },
  {
   "cell_type": "markdown",
   "id": "1435989f",
   "metadata": {},
   "source": [
    "**Q6. Create a base class called \"Vehicle\" with attributes like \"make\", \"model\", and \"year\".\n",
    "Then, create a derived class called \"Car\" that inherits from \"Vehicle\" and adds an\n",
    "attribute called \"fuel_type\". Implement appropriate methods in both classes.**"
   ]
  },
  {
   "cell_type": "markdown",
   "id": "29146d28",
   "metadata": {},
   "source": [
    "**7. Create a base class called \"Employee\" with attributes like \"name\" and \"salary.\"\n",
    "Derive two classes, \"Manager\" and \"Developer,\" from \"Employee.\" Add an additional\n",
    "attribute called \"department\" for the \"Manager\" class and \"programming_language\"\n",
    "for the \"Developer\" class.**"
   ]
  },
  {
   "cell_type": "markdown",
   "id": "0d53d1a6",
   "metadata": {},
   "source": [
    "**8. Design a base class called \"Shape\" with attributes like \"colour\" and \"border_width.\"\n",
    "Create derived classes, \"Rectangle\" and \"Circle,\" that inherit from \"Shape\" and add\n",
    "specific attributes like \"length\" and \"width\" for the \"Rectangle\" class and \"radius\" for\n",
    "the \"Circle\" class.**"
   ]
  },
  {
   "cell_type": "markdown",
   "id": "1ade5a16",
   "metadata": {},
   "source": [
    "**9. Create a base class called \"Device\" with attributes like \"brand\" and \"model.\" Derive\n",
    "two classes, \"Phone\" and \"Tablet,\" from \"Device.\" Add specific attributes like\n",
    "\"screen_size\" for the \"Phone\" class and \"battery_capacity\" for the \"Tablet\" class.**"
   ]
  },
  {
   "cell_type": "markdown",
   "id": "e727f84c",
   "metadata": {},
   "source": [
    "**10. Create a base class called \"BankAccount\" with attributes like \"account_number\" and\n",
    "\"balance.\" Derive two classes, \"SavingsAccount\" and \"CheckingAccount,\" from\n",
    "\"BankAccount.\" Add specific methods like \"calculate_interest\" for the\n",
    "\"SavingsAccount\" class and \"deduct_fees\" for the \"CheckingAccount\" class.**"
   ]
  },
  {
   "cell_type": "code",
   "execution_count": null,
   "id": "dd97d9ee",
   "metadata": {},
   "outputs": [],
   "source": [
    "class BankAccount:\n",
    "    def Init_(self, account_number, balance):\n",
    "        self.account_number - account_number\n",
    "        self.balance - balance\n",
    "\n",
    "class SavingsAccount (BankAccount):\n",
    "    def calculate_Interest(self, interest_rate): \n",
    "        interest - (self.balance * interest_rate)/100 \n",
    "        self_balance += interest\n",
    "        print(\"Interest calculated and added to the account.\")\n",
    "\n",
    "class CheckingAccount(BankAccount):\n",
    "    def deduct_fees (self, fee_amount):\n",
    "        if self.balance >= fee_amount: \n",
    "            self.balance -= fee_amount\n",
    "            print(\"Fees Onducted from the account.\")\n",
    "        else:\n",
    "            print(\"Insufficient balance to dsluct fers.\")\n",
    "\n",
    "#Create instances of the derived classes \n",
    "savings_account = SavingsAccount(\"123456789\", 1000) \n",
    "checking_account = CheckingAccount(\"987654321\", 500)\n",
    "\n",
    "#Access and print attributes\n",
    "\n",
    "print(\"Savings Account attributes:\") \n",
    "print(\"Account sumber\", savings_account.account_number)\n",
    "print(\"Balance\", savings_account, balance)\n",
    "\n",
    "print(\"\\nChecking Account Attributes:\") \n",
    "print(\"account saber:\", checking_account.account_number) \n",
    "print(\"Balance:\", checking_account.balance)\n",
    "\n",
    "#Call specific methods \n",
    "savings_account.calculate_interest(5) #Calculated interest at 5%\n",
    "checking_account.deduct_fees (20)      #Deduct fees of Rs. 20\n",
    "\n",
    "#Print updated balances\n",
    "\n",
    "print(\"Voupdated Balances:\") \n",
    "print(\"Savings Account Balance\", savings_account.balance)\n",
    "print(\"Checking Account Balance:\", checking_account.balance)"
   ]
  },
  {
   "cell_type": "code",
   "execution_count": null,
   "id": "f8f74fda",
   "metadata": {},
   "outputs": [],
   "source": []
  }
 ],
 "metadata": {
  "kernelspec": {
   "display_name": "Python 3 (ipykernel)",
   "language": "python",
   "name": "python3"
  },
  "language_info": {
   "codemirror_mode": {
    "name": "ipython",
    "version": 3
   },
   "file_extension": ".py",
   "mimetype": "text/x-python",
   "name": "python",
   "nbconvert_exporter": "python",
   "pygments_lexer": "ipython3",
   "version": "3.9.12"
  }
 },
 "nbformat": 4,
 "nbformat_minor": 5
}
