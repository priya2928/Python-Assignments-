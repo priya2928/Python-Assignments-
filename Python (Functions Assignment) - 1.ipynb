{
 "cells": [
  {
   "cell_type": "markdown",
   "id": "429cc8f5",
   "metadata": {},
   "source": [
    "**Q1. In Python, what is the difference between a built-in function and a user-defined function? Provide an\n",
    "example of each.**\n",
    "\n",
    "Ans:\n",
    "Some examples of built-in functions are print(), len(), sum(), min(), max(), etc.\n",
    "\n",
    "User-defined Functions: we create these functions to perform a specific task. we can define  functions using the def keyword followed by the function name, parameter(s), and the code block that performs the desired operation."
   ]
  },
  {
   "cell_type": "markdown",
   "id": "471ab700",
   "metadata": {},
   "source": [
    "**Q2. How can you pass arguments to a function in Python? Explain the difference between positional\n",
    "arguments and keyword arguments.**\n",
    "\n",
    "Ans:\n",
    "\n",
    "Information can be passed into functions as arguments. Arguments are specified after the function name, inside the parentheses\n",
    "\n",
    "<li>Keyword Arguments:Parameter Names are used to pass the argument during the function call.Order of parameter Names can be changed to pass the argument(or values).</li>\n",
    "\n",
    "<li>positional arguments:Arguments are passed in the order of parameters. The order defined in the order function declaration.Order of values cannot be changed to avoid the unexpected output.</li>"
   ]
  },
  {
   "cell_type": "markdown",
   "id": "8b5cb334",
   "metadata": {},
   "source": [
    "**Q3. What is the purpose of the return statement in a function? Can a function have multiple return\n",
    "statements? Explain with an example.**\n",
    "\n",
    "Ans: \n",
    "Once a return statement is encountered, the function will exit and return the specified value. Any subsequent return statements will not be executed. The Primary Purpose of Return is to go ahead and stop the current execution (current function) and return value and the control to the calling function.\n",
    "\n",
    "A function can have multiple return statements. When any of them is executed, the function terminates. A function can return multiple types of values."
   ]
  },
  {
   "cell_type": "code",
   "execution_count": 13,
   "id": "37ba724e",
   "metadata": {},
   "outputs": [
    {
     "name": "stdout",
     "output_type": "stream",
     "text": [
      "-1\n"
     ]
    }
   ],
   "source": [
    "def divide(a, b):\n",
    "    if b == 0:\n",
    "        return -1\n",
    "    return a/b\n",
    "\n",
    "print(divide(10,0))"
   ]
  },
  {
   "cell_type": "markdown",
   "id": "3973c6b6",
   "metadata": {},
   "source": [
    "**Q4. What are lambda functions in Python? How are they different from regular functions? Provide an\n",
    "example where a lambda function can be useful.**\n",
    "\n",
    "Ans: \n",
    "Python Lambda Functions are anonymous functions means that the function is without a name. As we already know the def keyword is used to define a normal function in Python. Similarly, the lambda keyword is used to define an anonymous function in Python.\n",
    "\n",
    "You should use the lambda function to create simple expressions. For example, expressions that do not include complex structures such as if-else, for-loops, and so on"
   ]
  },
  {
   "cell_type": "code",
   "execution_count": 14,
   "id": "08af43a6",
   "metadata": {},
   "outputs": [
    {
     "data": {
      "text/plain": [
       "1000"
      ]
     },
     "execution_count": 14,
     "metadata": {},
     "output_type": "execute_result"
    }
   ],
   "source": [
    "cube_num = lambda a : (a**3)\n",
    "cube_num(10)"
   ]
  },
  {
   "cell_type": "markdown",
   "id": "2cfe6dd3",
   "metadata": {},
   "source": [
    "**Q5. How does the concept of \"scope\" apply to functions in Python? Explain the difference between local\n",
    "scope and global scope.**\n",
    "\n",
    "Ans:\n",
    "Variables in Python have different scopes, representing their lifespan and access within the code. Local variables are created when a function starts and destroyed when it ends, while global variables are created when the program begins and lost when it ends."
   ]
  },
  {
   "cell_type": "markdown",
   "id": "79860e75",
   "metadata": {},
   "source": [
    "**Q6. How can you use the \"return\" statement in a Python function to return multiple values?**\n",
    "\n",
    "Ans:\n",
    "We can return more than one values from a function by using the method called “call by address”, or call by reference. In the invoker function, we will use two variables to store the results, and the function will take pointer type data. So we have to pass the address of the data."
   ]
  },
  {
   "cell_type": "markdown",
   "id": "30510e1d",
   "metadata": {},
   "source": [
    "**Q7. What is the difference between the \"pass by value\" and \"pass by reference\" concepts when it\n",
    "comes to function arguments in Python?**\n",
    "\n",
    "Ans:\n",
    "Pass by value refers to a mechanism of copying the function parameter value to another variable \n",
    "\n",
    "while the pass by reference refers to a mechanism of passing the actual parameters to the function."
   ]
  },
  {
   "cell_type": "markdown",
   "id": "8e480b62",
   "metadata": {},
   "source": [
    "**Q8. Create a function that can intake integer or decimal value and do following operations:**\n",
    "    \n",
    "a. Logarithmic function (log x)\n",
    "\n",
    "b. Exponential function (exp(x))\n",
    "\n",
    "c. Power function with base 2 (2^x)\n",
    "\n",
    "d. Square root"
   ]
  },
  {
   "cell_type": "code",
   "execution_count": 15,
   "id": "6a45b876",
   "metadata": {},
   "outputs": [
    {
     "name": "stdout",
     "output_type": "stream",
     "text": [
      "1.6094379124341003\n",
      "148.4131591025766\n",
      "32\n",
      "2.23606797749979\n"
     ]
    }
   ],
   "source": [
    "import numpy as np\n",
    "\n",
    "def fun(x):\n",
    "    print(np.log(x))  \n",
    "    print(np.exp(x))\n",
    "    print(np.power(2, x))\n",
    "    print(np.sqrt(x))\n",
    "    \n",
    "fun(5)"
   ]
  },
  {
   "cell_type": "markdown",
   "id": "74c29c49",
   "metadata": {},
   "source": [
    "**Q9. Create a function that takes a full name as an argument and returns first name and last name.**"
   ]
  },
  {
   "cell_type": "code",
   "execution_count": 16,
   "id": "2e58bc03",
   "metadata": {},
   "outputs": [],
   "source": [
    "def first_lastname(fullname): \n",
    "    first=fullname.split()[0]\n",
    "    last=fullname.split()[-1]\n",
    "    print(first + ',' + last)"
   ]
  },
  {
   "cell_type": "code",
   "execution_count": 17,
   "id": "e7a725fc",
   "metadata": {},
   "outputs": [
    {
     "name": "stdout",
     "output_type": "stream",
     "text": [
      "Enter full name:Anita Jadhav\n"
     ]
    }
   ],
   "source": [
    "fullname = input(\"Enter full name:\")"
   ]
  },
  {
   "cell_type": "code",
   "execution_count": 18,
   "id": "59146c4c",
   "metadata": {},
   "outputs": [
    {
     "name": "stdout",
     "output_type": "stream",
     "text": [
      "Anita,Jadhav\n"
     ]
    }
   ],
   "source": [
    "first_lastname(fullname)"
   ]
  },
  {
   "cell_type": "code",
   "execution_count": null,
   "id": "da9d1860",
   "metadata": {},
   "outputs": [],
   "source": []
  }
 ],
 "metadata": {
  "kernelspec": {
   "display_name": "Python 3 (ipykernel)",
   "language": "python",
   "name": "python3"
  },
  "language_info": {
   "codemirror_mode": {
    "name": "ipython",
    "version": 3
   },
   "file_extension": ".py",
   "mimetype": "text/x-python",
   "name": "python",
   "nbconvert_exporter": "python",
   "pygments_lexer": "ipython3",
   "version": "3.9.12"
  }
 },
 "nbformat": 4,
 "nbformat_minor": 5
}
